{
 "cells": [
  {
   "cell_type": "markdown",
   "id": "28d88636",
   "metadata": {},
   "source": [
    "# Modelo ResNet-50"
   ]
  },
  {
   "cell_type": "markdown",
   "id": "c359d523",
   "metadata": {},
   "source": [
    "En este notebook vamos a implementar el modelo de red neuronal convolucional ResNet-50. Explicaremos a grandes rasgos las distintas partes de la arquitectura. Los detalles pueden ser consultados en el artículo: https://arxiv.org/abs/2201.03545\n"
   ]
  },
  {
   "cell_type": "markdown",
   "id": "a8b791a5",
   "metadata": {},
   "source": [
    "### Preparación de los datos"
   ]
  },
  {
   "cell_type": "markdown",
   "id": "c2fa09c4",
   "metadata": {},
   "source": [
    "Entrenaremos al modelo en el conjunto de datos CIFAR-10. Este dataset consiste de 60000 imágenes a color en 10 clases distintas, donde no hay intersección entre las distintas clases. Se puede acceder al dataset mediante las herramientas de la paquetería de pytorch, o también en la página oficial: https://www.cs.toronto.edu/~kriz/cifar.html"
   ]
  },
  {
   "cell_type": "code",
   "execution_count": 1,
   "id": "d4157967",
   "metadata": {},
   "outputs": [],
   "source": [
    "# Importamos las paqueterías necesarias para el notebook\n",
    "import time\n",
    "import numpy as np\n",
    "import torch\n",
    "import torch.nn as nn\n",
    "import torch.optim as optim\n",
    "import torch.nn.functional as F\n",
    "from torchvision import datasets\n",
    "from torchvision import transforms\n",
    "from torch.utils.data.sampler import SubsetRandomSampler\n",
    "\n",
    "# De ser posible utilizaremos GPU\n",
    "device = torch.device('cuda' if torch.cuda.is_available() else 'cpu')"
   ]
  },
  {
   "cell_type": "code",
   "execution_count": 2,
   "id": "45dbbad0",
   "metadata": {},
   "outputs": [
    {
     "name": "stdout",
     "output_type": "stream",
     "text": [
      "Files already downloaded and verified\n",
      "Files already downloaded and verified\n",
      "Files already downloaded and verified\n"
     ]
    }
   ],
   "source": [
    "def data_loader(data_dir,\n",
    "                batch_size,\n",
    "                random_seed=42,\n",
    "                valid_size=0.1,\n",
    "                shuffle=True,\n",
    "                test=False):\n",
    "    \"\"\"\n",
    "    Función para cargar los datos de CIFAR-10\n",
    "    \"\"\"\n",
    "    \n",
    "    # Definimos el transform para normalizar los datos con pytorch\n",
    "    # Los valores fueron obtenidos en el notebook de datos \"data_extraction.ipynb\"\n",
    "    normalize = transforms.Normalize(  \n",
    "        mean=[0.4914, 0.4822, 0.4465],\n",
    "        std=[0.2023, 0.1994, 0.2010],\n",
    "    )\n",
    "\n",
    "    # Definimos el transform para preporcesar los datos\n",
    "    transform_train = transforms.Compose([\n",
    "        transforms.RandomCrop(32, padding=4),  # Tomo imágenes de 34x34 para evitar una excepción en pytorch al normalizar la última capa\n",
    "        transforms.RandomHorizontalFlip(),\n",
    "        transforms.ToTensor(),\n",
    "        normalize\n",
    "    ])\n",
    "    transform_test = transforms.Compose([\n",
    "        transforms.ToTensor(),\n",
    "        normalize\n",
    "    ])\n",
    "    \n",
    "    # Obtener los datos del conjunto de prueba\n",
    "    if test:\n",
    "        dataset = datasets.CIFAR10(\n",
    "          root=data_dir, train=False,\n",
    "          download=True, transform=transform_test,\n",
    "        )\n",
    "\n",
    "        data_loader = torch.utils.data.DataLoader(\n",
    "            dataset, batch_size=batch_size, shuffle=shuffle\n",
    "        )\n",
    "\n",
    "        return data_loader\n",
    "\n",
    "    # Cargamos una copia de los datos de entrenamiento\n",
    "    train_dataset = datasets.CIFAR10(\n",
    "        root=data_dir, train=True,\n",
    "        download=True, transform=transform_train,\n",
    "    )\n",
    "    \n",
    "    # Cargamos una copia extra de los datos de entrenamiento para dividirlo después en el conjunto de validación\n",
    "    valid_dataset = datasets.CIFAR10(\n",
    "        root=data_dir, train=True,\n",
    "        download=True, transform=transform_train,\n",
    "    )\n",
    "    \n",
    "    # Separamos los datos de entrenamiento y validación mediante índices\n",
    "    num_train = len(train_dataset)\n",
    "    indices = list(range(num_train))\n",
    "    split = int(np.floor(valid_size * num_train))\n",
    "\n",
    "    if shuffle:\n",
    "        np.random.seed(42)\n",
    "        np.random.shuffle(indices)\n",
    "\n",
    "    train_idx, valid_idx = indices[split:], indices[:split]\n",
    "    train_sampler = SubsetRandomSampler(train_idx)\n",
    "    valid_sampler = SubsetRandomSampler(valid_idx)\n",
    "    \n",
    "    # Finalmente, definimos los conjuntos de entrenamiento y validación\n",
    "    train_loader = torch.utils.data.DataLoader(\n",
    "        train_dataset, batch_size=batch_size, sampler=train_sampler)\n",
    "\n",
    "    valid_loader = torch.utils.data.DataLoader(\n",
    "        valid_dataset, batch_size=batch_size, sampler=valid_sampler)\n",
    "\n",
    "    return (train_loader, valid_loader)\n",
    "\n",
    "\n",
    "# Aplicamos la función para cargar los datos de CIFAR-10, los guardamos en el directorio actual\n",
    "train_loader, valid_loader = data_loader(data_dir='./data',\n",
    "                                         batch_size=128)\n",
    "\n",
    "test_loader = data_loader(data_dir='./data',\n",
    "                              batch_size=128,\n",
    "                              test=True)    \n",
    "cifar10_classes = ('plane', 'car', 'bird', 'cat', 'deer', 'dog', 'frog', 'horse', 'ship', 'truck')"
   ]
  },
  {
   "cell_type": "markdown",
   "id": "de4a6def",
   "metadata": {},
   "source": [
    "### Definición del modelo"
   ]
  },
  {
   "cell_type": "markdown",
   "id": "bcb1797b",
   "metadata": {},
   "source": [
    "Explicar el modelo, como lo vamos a construir, como lo vamos a testear. Mencionar que nos vamos a basar en el articulo de ResNet"
   ]
  },
  {
   "cell_type": "markdown",
   "id": "ec998571",
   "metadata": {},
   "source": [
    "### Batch normalization"
   ]
  },
  {
   "cell_type": "markdown",
   "id": "b434d454",
   "metadata": {},
   "source": [
    "Para evitar el problema *vanishing/exploding gradients*, los autores del artículo emplean *batch normalization*. Para simplificar el uso de este tipo de capa, creamos una capa de utilidad __utilConv__ que aplica una convolución, normalización y la función de activación. La siguiente imagen ejemplifica dicha capa:"
   ]
  },
  {
   "attachments": {
    "convnormact.png": {
     "image/png": "[encoded data removed]"
    }
   },
   "cell_type": "markdown",
   "id": "19ff7326",
   "metadata": {},
   "source": [
    "![convnormact.png](attachment:convnormact.png)"
   ]
  },
  {
   "cell_type": "code",
   "execution_count": 3,
   "id": "3bae97a7",
   "metadata": {},
   "outputs": [],
   "source": [
    "class utilConv(nn.Sequential):\n",
    "    \"\"\"\n",
    "    Capa de utilidad compuesta por una capa de convolución seguida de una de normalización y luego una de activación.\n",
    "    \"\"\"\n",
    "    def __init__(self, in_features, out_features, kernel_size, stride = 1, norm = nn.BatchNorm2d, act = nn.ReLU, bias=True):\n",
    "        super().__init__(\n",
    "            nn.Conv2d(in_features, out_features, kernel_size=kernel_size ,padding=kernel_size // 2, stride=stride, bias=bias),\n",
    "            norm(out_features),\n",
    "            act()\n",
    "        )"
   ]
  },
  {
   "cell_type": "markdown",
   "id": "fae0102e",
   "metadata": {},
   "source": [
    "### Bottleneck"
   ]
  },
  {
   "cell_type": "markdown",
   "id": "50958556",
   "metadata": {},
   "source": [
    "El bloque residual utilizado en ResNet-50 es conocido como *bottleneck*. Su principal utilidad es el de aumentar el de aumentar la eficiencia de la red neuronal mediante la disminución temporal del número de canales de los datos. La siguiente imagen, tomada del artículo, ejemplifica su funcionamiento:"
   ]
  },
  {
   "attachments": {
    "bottleneck-3.png": {
     "image/png": "[encoded data removed]"
    }
   },
   "cell_type": "markdown",
   "id": "38ee5a54",
   "metadata": {},
   "source": [
    "![bottleneck-3.png](attachment:bottleneck-3.png)"
   ]
  },
  {
   "cell_type": "code",
   "execution_count": 4,
   "id": "e147e5bf",
   "metadata": {},
   "outputs": [],
   "source": [
    "class BottleNeckBlock(nn.Module):\n",
    "    def __init__(self,in_features, out_features, reduction = 4, stride = 1):\n",
    "        super().__init__()\n",
    "        reduced_features = out_features // reduction\n",
    "        self.block = nn.Sequential(\n",
    "            # Reducción de canales\n",
    "            utilConv(in_features, reduced_features, kernel_size=1, stride=stride, bias=False), # el stride puede ser 2 para aplicar downsampling\n",
    "            # El número de canales se mantiene fijo\n",
    "            utilConv(reduced_features, reduced_features, kernel_size=3, bias=False),\n",
    "            # Aumento de canales\n",
    "            utilConv(reduced_features, out_features, kernel_size=1, bias=False, act=nn.Identity), \n",
    "        )\n",
    "        \n",
    "        # self.shortcut es utilizado para transformar al input a las dimensiones correctas para poder sumarlo a la salida del bloque\n",
    "        if in_features != out_features:\n",
    "            self.shortcut =nn.Sequential(utilConv(in_features, out_features, kernel_size=1, stride=stride, bias=False))\n",
    "        else:\n",
    "            self.shortcut = nn.Identity()\n",
    "\n",
    "        self.act = nn.ReLU()\n",
    "\n",
    "    def forward(self, x):\n",
    "        res = x\n",
    "        x = self.block(x)\n",
    "        res = self.shortcut(res)\n",
    "        x += res\n",
    "        x = self.act(x)\n",
    "        return x"
   ]
  },
  {
   "cell_type": "markdown",
   "id": "466113f5",
   "metadata": {},
   "source": [
    "### Stage"
   ]
  },
  {
   "cell_type": "markdown",
   "id": "ec9a5ea1",
   "metadata": {},
   "source": [
    "La arquitectura ResNet-50 cuenta con 4 conjuntos de bloques _bottlencek_, cada uno de estos conjuntos es llamado *stage*. En la siguiente imagen están encerrados en rojo los 4 _stages_ de la arquitectura ResNet-50"
   ]
  },
  {
   "attachments": {
    "stages.png": {
     "image/png": "[encoded data removed]"
    }
   },
   "cell_type": "markdown",
   "id": "150f751e",
   "metadata": {},
   "source": [
    "![stages.png](attachment:stages.png)"
   ]
  },
  {
   "cell_type": "code",
   "execution_count": 5,
   "id": "7745eb35",
   "metadata": {},
   "outputs": [],
   "source": [
    "class Stage(nn.Sequential):\n",
    "    \"\"\"\n",
    "    Esta capa define al \"stage\", el cual es un conjunto de bloques residuales\n",
    "    depth es el número de bloques residuales\n",
    "    in_features el numero de canales con que empieza\n",
    "    out_features el numer de canales con que termina\n",
    "    \"\"\"\n",
    "    def __init__(self, in_features, out_features, depth, stride = 2):\n",
    "        super().__init__(\n",
    "            # downsample is done here\n",
    "            BottleNeckBlock(in_features, out_features, stride=stride),\n",
    "            *[BottleNeckBlock(out_features, out_features) for _ in range(depth - 1)]\n",
    "        )"
   ]
  },
  {
   "cell_type": "markdown",
   "id": "d43f8fb2",
   "metadata": {},
   "source": [
    "### Estructura \"stem cell\""
   ]
  },
  {
   "cell_type": "markdown",
   "id": "9fb84597",
   "metadata": {},
   "source": [
    "El primer procesamiento al input en el modelo resnet es conocido por el nombre \"stem cell\", éste consiste en una capa convolucional seguida de una capa de MaxPool. Sin embargo, en el artículo de ResNet deciden no aplicar _downsampling_ al conjunto de datos CIFAR-10, por lo que utilizaremos en la primera convolución un kernel de dimensión 3 y no utilizaremos MaxPool."
   ]
  },
  {
   "cell_type": "code",
   "execution_count": 6,
   "id": "2758eb06",
   "metadata": {},
   "outputs": [],
   "source": [
    "class Stem(nn.Sequential):\n",
    "    def __init__(self, in_features, out_features):\n",
    "        super().__init__(\n",
    "            utilConv(in_features, out_features, kernel_size=3, stride=1),  # en el caso de ImageNet, el kernel es de tamaño 7\n",
    "#             nn.MaxPool2d(kernel_size=3, stride=2, padding=1)  \n",
    "        )"
   ]
  },
  {
   "cell_type": "markdown",
   "id": "78482691",
   "metadata": {},
   "source": [
    "### Encoder"
   ]
  },
  {
   "cell_type": "markdown",
   "id": "8937f7ae",
   "metadata": {},
   "source": [
    "El Encoder de la arquitectura ResNet abarca todos los elementos mencionados hasta este punto. Es en el Encoder donde se procesan los datos con la intención de extraer sus características principales para después ser clasificados por el Decoder. "
   ]
  },
  {
   "cell_type": "code",
   "execution_count": 7,
   "id": "d85cc12d",
   "metadata": {},
   "outputs": [],
   "source": [
    "class Encoder(nn.Module):\n",
    "    \n",
    "    \"\"\"\n",
    "    widths es una lista con el número de canales respectivos al final de cada \"stage\"\n",
    "    depths es una lista con el numero de bloques residuales que tendrá cada \"stage\"\n",
    "    stem_features es el número de canales que resulta de la primera capa de downsampling\n",
    "    \n",
    "    \"\"\"\n",
    "    def __init__(self, in_channels, stem_features, depths, widths):  # \n",
    "        super().__init__()\n",
    "        self.stem = Stem(in_channels, stem_features)\n",
    "\n",
    "        in_out_widths = list(zip(widths, widths[1:]))\n",
    "\n",
    "        \n",
    "        self.stages = nn.ModuleList() # lista de pytorch con los stages\n",
    "        \n",
    "        self.stages.append(Stage(stem_features, widths[0], depths[0], stride=1)) # se puede inferir de la figura 1 del artículo que el primer bloque del stage1 tiene stride 1\n",
    "        \n",
    "        for (in_features, out_features), depth in zip(in_out_widths, depths[1:]):\n",
    "            # añadir cada uno de los stages\n",
    "            self.stages.append(Stage(in_features, out_features, depth))\n",
    "            \n",
    "\n",
    "    def forward(self, x):\n",
    "        x = self.stem(x)\n",
    "        for stage in self.stages:\n",
    "            x = stage(x)\n",
    "        return x"
   ]
  },
  {
   "cell_type": "markdown",
   "id": "ec036054",
   "metadata": {},
   "source": [
    "### Decoder"
   ]
  },
  {
   "cell_type": "markdown",
   "id": "62edca04",
   "metadata": {},
   "source": [
    "En ResNet, el Decoder es la parte de la red neuronal encargada de ajustar las dimensiones de los datos procesados por el Encoder para poder clasificarlos. ultimo del resnet fig3 avg pool y fc"
   ]
  },
  {
   "cell_type": "code",
   "execution_count": 8,
   "id": "31e608f3",
   "metadata": {},
   "outputs": [],
   "source": [
    "class Decoder(nn.Module):\n",
    "    \"\"\"\n",
    "    Capa para clasificar los datos\n",
    "    \"\"\"\n",
    "    def __init__(self, in_features, n_classes):\n",
    "        super().__init__()\n",
    "        self.avg = nn.AdaptiveAvgPool2d((1, 1))\n",
    "        self.decoder = nn.Linear(in_features, n_classes)\n",
    "\n",
    "    def forward(self, x):\n",
    "        x = self.avg(x)\n",
    "        x = x.view(x.size(0), -1)\n",
    "        x = self.decoder(x)\n",
    "        x = F.softmax(x, dim=1)\n",
    "        return x"
   ]
  },
  {
   "cell_type": "code",
   "execution_count": 9,
   "id": "2f8cee52",
   "metadata": {},
   "outputs": [],
   "source": [
    "class ResNet(nn.Module):\n",
    "    \n",
    "    def __init__(self, in_channels, n_classes, stem_features, depths, widths ):\n",
    "        super().__init__()\n",
    "        self.encoder = Encoder(in_channels=in_channels, stem_features=stem_features, depths=depths, widths=widths)\n",
    "        self.decoder = Decoder(widths[-1], n_classes)\n",
    "        \n",
    "    def forward(self, x):\n",
    "        x = self.encoder(x)\n",
    "        x = self.decoder(x)\n",
    "        return x"
   ]
  },
  {
   "cell_type": "markdown",
   "id": "6af3b29b",
   "metadata": {},
   "source": [
    "#### Ejemplo de creación y uso del modelo ResNet-50"
   ]
  },
  {
   "cell_type": "code",
   "execution_count": 10,
   "id": "c3860e3c",
   "metadata": {},
   "outputs": [
    {
     "data": {
      "text/plain": [
       "torch.Size([1, 10])"
      ]
     },
     "execution_count": 10,
     "metadata": {},
     "output_type": "execute_result"
    }
   ],
   "source": [
    "resnet50 = ResNet(in_channels=3, n_classes = 10, stem_features=16, depths=[3,4,6,4], widths=[16, 32, 64, 64]).to(device)\n",
    "resnet50(torch.rand(1,3,34,34).to(device)).shape"
   ]
  },
  {
   "cell_type": "code",
   "execution_count": 11,
   "id": "d7e86a98",
   "metadata": {},
   "outputs": [
    {
     "data": {
      "text/plain": [
       "0"
      ]
     },
     "execution_count": 11,
     "metadata": {},
     "output_type": "execute_result"
    }
   ],
   "source": [
    "import gc\n",
    "torch.cuda.empty_cache()\n",
    "gc.collect()"
   ]
  },
  {
   "cell_type": "markdown",
   "id": "063913b6",
   "metadata": {},
   "source": [
    "### Entrenamiento"
   ]
  },
  {
   "cell_type": "code",
   "execution_count": 12,
   "id": "66bfdbb8",
   "metadata": {},
   "outputs": [],
   "source": [
    "# variables para guardar los resultados\n",
    "accuracy_training_epochs = []\n",
    "accuracy_validation_epochs = []\n",
    "loss_epoch = []\n",
    "test_accuracy = []"
   ]
  },
  {
   "cell_type": "code",
   "execution_count": 13,
   "id": "7deb35f1",
   "metadata": {},
   "outputs": [],
   "source": [
    "# hiperparámetros\n",
    "num_classes = 10\n",
    "num_epochs = 90\n",
    "\n",
    "model = ResNet(in_channels=3, n_classes = 10, stem_features=16, depths=[3,4,6,4], widths=[16, 32, 64, 128]).to(device)\n",
    "\n",
    "optimizer = optim.SGD(\n",
    "        params=model.parameters(),\n",
    "        lr=0.1,\n",
    "        momentum=0.9,\n",
    "        weight_decay=0.0001)\n",
    "criterion = nn.CrossEntropyLoss()\n",
    "lr_scheduler = torch.optim.lr_scheduler.CosineAnnealingLR(optimizer, T_max=90)"
   ]
  },
  {
   "cell_type": "code",
   "execution_count": 14,
   "id": "5994e84b",
   "metadata": {},
   "outputs": [
    {
     "name": "stdout",
     "output_type": "stream",
     "text": [
      "Epoch [1/90], Training accuracy: 0.247, Validation accuracy: 0.254, loss = 2.164\n",
      "Time spent on epoch 1: 1.59min\n",
      "Epoch [2/90], Training accuracy: 0.279, Validation accuracy: 0.284, loss = 2.183\n",
      "Time spent on epoch 2: 1.62min\n",
      "Epoch [3/90], Training accuracy: 0.329, Validation accuracy: 0.329, loss = 2.036\n",
      "Time spent on epoch 3: 1.63min\n",
      "Epoch [4/90], Training accuracy: 0.359, Validation accuracy: 0.35, loss = 2.084\n",
      "Time spent on epoch 4: 1.63min\n",
      "Epoch [5/90], Training accuracy: 0.379, Validation accuracy: 0.374, loss = 2.053\n",
      "Time spent on epoch 5: 1.65min\n",
      "Epoch [6/90], Training accuracy: 0.394, Validation accuracy: 0.397, loss = 2.157\n",
      "Time spent on epoch 6: 1.65min\n",
      "Epoch [7/90], Training accuracy: 0.395, Validation accuracy: 0.399, loss = 2.002\n",
      "Time spent on epoch 7: 1.65min\n",
      "Epoch [8/90], Training accuracy: 0.425, Validation accuracy: 0.422, loss = 2.054\n",
      "Time spent on epoch 8: 1.65min\n",
      "Epoch [9/90], Training accuracy: 0.441, Validation accuracy: 0.445, loss = 2.049\n",
      "Time spent on epoch 9: 1.65min\n",
      "Epoch [10/90], Training accuracy: 0.476, Validation accuracy: 0.471, loss = 1.972\n",
      "Time spent on epoch 10: 1.66min\n",
      "Epoch [11/90], Training accuracy: 0.501, Validation accuracy: 0.498, loss = 2.028\n",
      "Time spent on epoch 11: 1.65min\n",
      "Epoch [12/90], Training accuracy: 0.517, Validation accuracy: 0.513, loss = 1.951\n",
      "Time spent on epoch 12: 1.67min\n",
      "Epoch [13/90], Training accuracy: 0.531, Validation accuracy: 0.53, loss = 1.946\n",
      "Time spent on epoch 13: 1.66min\n",
      "Epoch [14/90], Training accuracy: 0.549, Validation accuracy: 0.54, loss = 1.934\n",
      "Time spent on epoch 14: 1.65min\n",
      "Epoch [15/90], Training accuracy: 0.564, Validation accuracy: 0.554, loss = 1.904\n",
      "Time spent on epoch 15: 1.65min\n",
      "Epoch [16/90], Training accuracy: 0.582, Validation accuracy: 0.579, loss = 1.93\n",
      "Time spent on epoch 16: 1.66min\n",
      "Epoch [17/90], Training accuracy: 0.593, Validation accuracy: 0.582, loss = 1.779\n",
      "Time spent on epoch 17: 1.66min\n",
      "Epoch [18/90], Training accuracy: 0.608, Validation accuracy: 0.597, loss = 1.841\n",
      "Time spent on epoch 18: 1.66min\n",
      "Epoch [19/90], Training accuracy: 0.612, Validation accuracy: 0.611, loss = 1.891\n",
      "Time spent on epoch 19: 1.67min\n",
      "Epoch [20/90], Training accuracy: 0.62, Validation accuracy: 0.611, loss = 1.72\n",
      "Time spent on epoch 20: 1.66min\n",
      "Epoch [21/90], Training accuracy: 0.612, Validation accuracy: 0.607, loss = 1.865\n",
      "Time spent on epoch 21: 1.67min\n",
      "Epoch [22/90], Training accuracy: 0.63, Validation accuracy: 0.619, loss = 1.859\n",
      "Time spent on epoch 22: 1.67min\n",
      "Epoch [23/90], Training accuracy: 0.651, Validation accuracy: 0.641, loss = 1.837\n",
      "Time spent on epoch 23: 1.67min\n",
      "Epoch [24/90], Training accuracy: 0.647, Validation accuracy: 0.635, loss = 1.832\n",
      "Time spent on epoch 24: 1.66min\n",
      "Epoch [25/90], Training accuracy: 0.661, Validation accuracy: 0.656, loss = 1.704\n",
      "Time spent on epoch 25: 1.67min\n",
      "Epoch [26/90], Training accuracy: 0.651, Validation accuracy: 0.638, loss = 1.758\n",
      "Time spent on epoch 26: 1.67min\n",
      "Epoch [27/90], Training accuracy: 0.665, Validation accuracy: 0.651, loss = 1.824\n",
      "Time spent on epoch 27: 1.67min\n",
      "Epoch [28/90], Training accuracy: 0.667, Validation accuracy: 0.66, loss = 1.77\n",
      "Time spent on epoch 28: 1.67min\n",
      "Epoch [29/90], Training accuracy: 0.682, Validation accuracy: 0.669, loss = 1.798\n",
      "Time spent on epoch 29: 1.67min\n",
      "Epoch [30/90], Training accuracy: 0.676, Validation accuracy: 0.665, loss = 1.683\n",
      "Time spent on epoch 30: 1.67min\n",
      "Epoch [31/90], Training accuracy: 0.69, Validation accuracy: 0.681, loss = 1.766\n",
      "Time spent on epoch 31: 1.68min\n",
      "Epoch [32/90], Training accuracy: 0.688, Validation accuracy: 0.684, loss = 1.739\n",
      "Time spent on epoch 32: 1.67min\n",
      "Epoch [33/90], Training accuracy: 0.682, Validation accuracy: 0.673, loss = 1.815\n",
      "Time spent on epoch 33: 1.67min\n",
      "Epoch [34/90], Training accuracy: 0.683, Validation accuracy: 0.668, loss = 1.774\n",
      "Time spent on epoch 34: 1.67min\n",
      "Epoch [35/90], Training accuracy: 0.698, Validation accuracy: 0.684, loss = 1.747\n",
      "Time spent on epoch 35: 1.67min\n",
      "Epoch [36/90], Training accuracy: 0.7, Validation accuracy: 0.695, loss = 1.772\n",
      "Time spent on epoch 36: 1.67min\n",
      "Epoch [37/90], Training accuracy: 0.703, Validation accuracy: 0.687, loss = 1.761\n",
      "Time spent on epoch 37: 1.67min\n",
      "Epoch [38/90], Training accuracy: 0.722, Validation accuracy: 0.712, loss = 1.762\n",
      "Time spent on epoch 38: 1.68min\n",
      "Epoch [39/90], Training accuracy: 0.714, Validation accuracy: 0.711, loss = 1.725\n",
      "Time spent on epoch 39: 1.67min\n",
      "Epoch [40/90], Training accuracy: 0.714, Validation accuracy: 0.696, loss = 1.678\n",
      "Time spent on epoch 40: 1.67min\n",
      "Epoch [41/90], Training accuracy: 0.731, Validation accuracy: 0.717, loss = 1.722\n",
      "Time spent on epoch 41: 1.68min\n",
      "Epoch [42/90], Training accuracy: 0.731, Validation accuracy: 0.724, loss = 1.812\n",
      "Time spent on epoch 42: 1.68min\n",
      "Epoch [43/90], Training accuracy: 0.724, Validation accuracy: 0.71, loss = 1.805\n",
      "Time spent on epoch 43: 1.67min\n",
      "Epoch [44/90], Training accuracy: 0.718, Validation accuracy: 0.702, loss = 1.746\n",
      "Time spent on epoch 44: 1.67min\n",
      "Epoch [45/90], Training accuracy: 0.734, Validation accuracy: 0.725, loss = 1.739\n",
      "Time spent on epoch 45: 1.68min\n",
      "Epoch [46/90], Training accuracy: 0.742, Validation accuracy: 0.727, loss = 1.643\n",
      "Time spent on epoch 46: 1.68min\n",
      "Epoch [47/90], Training accuracy: 0.748, Validation accuracy: 0.738, loss = 1.76\n",
      "Time spent on epoch 47: 1.67min\n",
      "Epoch [48/90], Training accuracy: 0.751, Validation accuracy: 0.734, loss = 1.742\n",
      "Time spent on epoch 48: 1.68min\n",
      "Epoch [49/90], Training accuracy: 0.75, Validation accuracy: 0.733, loss = 1.752\n",
      "Time spent on epoch 49: 1.67min\n",
      "Epoch [50/90], Training accuracy: 0.746, Validation accuracy: 0.731, loss = 1.671\n",
      "Time spent on epoch 50: 1.67min\n",
      "Epoch [51/90], Training accuracy: 0.76, Validation accuracy: 0.746, loss = 1.651\n",
      "Time spent on epoch 51: 1.68min\n",
      "Epoch [52/90], Training accuracy: 0.761, Validation accuracy: 0.743, loss = 1.706\n",
      "Time spent on epoch 52: 1.68min\n",
      "Epoch [53/90], Training accuracy: 0.764, Validation accuracy: 0.752, loss = 1.737\n",
      "Time spent on epoch 53: 1.68min\n",
      "Epoch [54/90], Training accuracy: 0.762, Validation accuracy: 0.744, loss = 1.708\n",
      "Time spent on epoch 54: 1.69min\n",
      "Epoch [55/90], Training accuracy: 0.767, Validation accuracy: 0.748, loss = 1.697\n",
      "Time spent on epoch 55: 1.68min\n",
      "Epoch [56/90], Training accuracy: 0.77, Validation accuracy: 0.755, loss = 1.776\n",
      "Time spent on epoch 56: 1.68min\n",
      "Epoch [57/90], Training accuracy: 0.771, Validation accuracy: 0.756, loss = 1.711\n",
      "Time spent on epoch 57: 1.68min\n",
      "Epoch [58/90], Training accuracy: 0.772, Validation accuracy: 0.748, loss = 1.723\n",
      "Time spent on epoch 58: 1.68min\n",
      "Epoch [59/90], Training accuracy: 0.774, Validation accuracy: 0.755, loss = 1.68\n",
      "Time spent on epoch 59: 1.68min\n",
      "Epoch [60/90], Training accuracy: 0.779, Validation accuracy: 0.758, loss = 1.766\n",
      "Time spent on epoch 60: 1.68min\n",
      "Epoch [61/90], Training accuracy: 0.782, Validation accuracy: 0.764, loss = 1.689\n",
      "Time spent on epoch 61: 1.68min\n",
      "Epoch [62/90], Training accuracy: 0.788, Validation accuracy: 0.762, loss = 1.635\n",
      "Time spent on epoch 62: 1.68min\n",
      "Epoch [63/90], Training accuracy: 0.784, Validation accuracy: 0.761, loss = 1.701\n",
      "Time spent on epoch 63: 1.74min\n",
      "Epoch [64/90], Training accuracy: 0.792, Validation accuracy: 0.772, loss = 1.645\n",
      "Time spent on epoch 64: 1.74min\n",
      "Epoch [65/90], Training accuracy: 0.794, Validation accuracy: 0.78, loss = 1.666\n",
      "Time spent on epoch 65: 1.72min\n",
      "Epoch [66/90], Training accuracy: 0.792, Validation accuracy: 0.767, loss = 1.705\n",
      "Time spent on epoch 66: 1.68min\n",
      "Epoch [67/90], Training accuracy: 0.798, Validation accuracy: 0.781, loss = 1.636\n",
      "Time spent on epoch 67: 1.69min\n",
      "Epoch [68/90], Training accuracy: 0.802, Validation accuracy: 0.772, loss = 1.589\n",
      "Time spent on epoch 68: 1.65min\n",
      "Epoch [69/90], Training accuracy: 0.803, Validation accuracy: 0.778, loss = 1.703\n",
      "Time spent on epoch 69: 1.66min\n",
      "Epoch [70/90], Training accuracy: 0.81, Validation accuracy: 0.79, loss = 1.639\n",
      "Time spent on epoch 70: 1.66min\n",
      "Epoch [71/90], Training accuracy: 0.809, Validation accuracy: 0.784, loss = 1.68\n",
      "Time spent on epoch 71: 1.68min\n",
      "Epoch [72/90], Training accuracy: 0.812, Validation accuracy: 0.784, loss = 1.668\n",
      "Time spent on epoch 72: 1.66min\n",
      "Epoch [73/90], Training accuracy: 0.813, Validation accuracy: 0.794, loss = 1.703\n",
      "Time spent on epoch 73: 1.65min\n"
     ]
    },
    {
     "name": "stdout",
     "output_type": "stream",
     "text": [
      "Epoch [74/90], Training accuracy: 0.821, Validation accuracy: 0.796, loss = 1.621\n",
      "Time spent on epoch 74: 1.66min\n",
      "Epoch [75/90], Training accuracy: 0.82, Validation accuracy: 0.791, loss = 1.647\n",
      "Time spent on epoch 75: 1.65min\n",
      "Epoch [76/90], Training accuracy: 0.821, Validation accuracy: 0.794, loss = 1.656\n",
      "Time spent on epoch 76: 1.65min\n",
      "Epoch [77/90], Training accuracy: 0.822, Validation accuracy: 0.798, loss = 1.618\n",
      "Time spent on epoch 77: 1.65min\n",
      "Epoch [78/90], Training accuracy: 0.825, Validation accuracy: 0.801, loss = 1.572\n",
      "Time spent on epoch 78: 1.65min\n",
      "Epoch [79/90], Training accuracy: 0.826, Validation accuracy: 0.8, loss = 1.569\n",
      "Time spent on epoch 79: 1.66min\n",
      "Epoch [80/90], Training accuracy: 0.826, Validation accuracy: 0.797, loss = 1.661\n",
      "Time spent on epoch 80: 1.66min\n",
      "Epoch [81/90], Training accuracy: 0.828, Validation accuracy: 0.798, loss = 1.641\n",
      "Time spent on epoch 81: 1.65min\n",
      "Epoch [82/90], Training accuracy: 0.829, Validation accuracy: 0.795, loss = 1.583\n",
      "Time spent on epoch 82: 2.07min\n",
      "Epoch [83/90], Training accuracy: 0.833, Validation accuracy: 0.799, loss = 1.644\n",
      "Time spent on epoch 83: 1.93min\n",
      "Epoch [84/90], Training accuracy: 0.832, Validation accuracy: 0.808, loss = 1.63\n",
      "Time spent on epoch 84: 1.86min\n",
      "Epoch [85/90], Training accuracy: 0.832, Validation accuracy: 0.804, loss = 1.629\n",
      "Time spent on epoch 85: 1.87min\n",
      "Epoch [86/90], Training accuracy: 0.832, Validation accuracy: 0.8, loss = 1.642\n",
      "Time spent on epoch 86: 1.92min\n",
      "Epoch [87/90], Training accuracy: 0.832, Validation accuracy: 0.805, loss = 1.684\n",
      "Time spent on epoch 87: 1.89min\n",
      "Epoch [88/90], Training accuracy: 0.833, Validation accuracy: 0.812, loss = 1.595\n",
      "Time spent on epoch 88: 1.87min\n",
      "Epoch [89/90], Training accuracy: 0.833, Validation accuracy: 0.804, loss = 1.647\n",
      "Time spent on epoch 89: 1.88min\n",
      "Epoch [90/90], Training accuracy: 0.832, Validation accuracy: 0.805, loss = 1.595\n",
      "Time spent on epoch 90: 1.88min\n"
     ]
    }
   ],
   "source": [
    "import gc\n",
    "\n",
    "for epoch in range(num_epochs):\n",
    "    start_time = time.time()\n",
    "    for i, (images, labels) in enumerate(train_loader):\n",
    "        \n",
    "        # Mover a los tensores a GPU de ser posible\n",
    "        images = images.to(device)\n",
    "        labels = labels.to(device)\n",
    "\n",
    "        # Forward pass\n",
    "        outputs = model(images)\n",
    "        loss = criterion(outputs, labels)\n",
    "\n",
    "        # Backward pass y descenso de gradiente estocástico\n",
    "        optimizer.zero_grad()\n",
    "        loss.backward()\n",
    "        optimizer.step()\n",
    "\n",
    "        # Ahorro de memoria\n",
    "        del images, labels, outputs\n",
    "        torch.cuda.empty_cache()\n",
    "        gc.collect()\n",
    "\n",
    "    loss_epoch.append(loss.item())\n",
    "    lr_scheduler.step() # Implementación de learning rate decay\n",
    "\n",
    "    # Exactitud en el conjunto de validación\n",
    "    with torch.no_grad():\n",
    "        correct = 0\n",
    "        total = 0\n",
    "        for images, labels in valid_loader:\n",
    "            images = images.to(device)\n",
    "            labels = labels.to(device)\n",
    "            outputs = model(images)\n",
    "            _, predicted = torch.max(outputs.data, 1)\n",
    "            total += labels.size(0)\n",
    "            correct += (predicted == labels).sum().item()\n",
    "            del images, labels, outputs\n",
    "        val_accuracy = correct/total\n",
    "        accuracy_validation_epochs.append(val_accuracy)\n",
    "\n",
    "    # Exactitud en el total del conjunto de entrenamiento\n",
    "    with torch.no_grad():\n",
    "        correct = 0\n",
    "        total = 0\n",
    "        for images, labels in train_loader:\n",
    "            images = images.to(device)\n",
    "            labels = labels.to(device)\n",
    "            outputs = model(images)\n",
    "            _, predicted = torch.max(outputs.data, 1)\n",
    "            total += labels.size(0)\n",
    "            correct += (predicted == labels).sum().item()\n",
    "            del images, labels, outputs\n",
    "        train_accuracy = correct/total\n",
    "        accuracy_training_epochs.append(train_accuracy)\n",
    "\n",
    "    # Exactitud en el conjunto de prueba\n",
    "    with torch.no_grad():\n",
    "        correct = 0\n",
    "        total = 0\n",
    "        for images, labels in test_loader:\n",
    "            images = images.to(device)\n",
    "            labels = labels.to(device)\n",
    "            outputs = model(images)\n",
    "            _, predicted = torch.max(outputs.data, 1)\n",
    "            total += labels.size(0)\n",
    "            correct += (predicted == labels).sum().item()\n",
    "            del images, labels, outputs\n",
    "        t_acc = correct/total\n",
    "        test_accuracy.append(t_acc)\n",
    "\n",
    "\n",
    "\n",
    "    print(f\"Epoch [{epoch+1}/{num_epochs}], Training accuracy: {round(train_accuracy,3)}, Validation accuracy: {round(val_accuracy,3)}, loss = {round(loss_epoch[-1],3)}\")\n",
    "    print(f\"Time spent on epoch {epoch+1}: {round((time.time()-start_time)/60,2)}min\")\n",
    "    torch.save(model,\"./resnet50.pt\") # guardar cada epoch para no perder progreso de entrenamiento"
   ]
  },
  {
   "cell_type": "code",
   "execution_count": 15,
   "id": "e92815f9",
   "metadata": {},
   "outputs": [],
   "source": [
    "# guardar el modelo final\n",
    "torch.save(model,\"./ResNet50_cosine.pt\")"
   ]
  },
  {
   "cell_type": "markdown",
   "id": "a58505bb",
   "metadata": {},
   "source": [
    "### Resultados"
   ]
  },
  {
   "cell_type": "code",
   "execution_count": 16,
   "id": "9e3fe387",
   "metadata": {},
   "outputs": [
    {
     "name": "stderr",
     "output_type": "stream",
     "text": [
      "C:\\Users\\kosoi\\AppData\\Local\\Temp\\ipykernel_8588\\4080736814.py:1: DeprecationWarning: \n",
      "Pyarrow will become a required dependency of pandas in the next major release of pandas (pandas 3.0),\n",
      "(to allow more performant data types, such as the Arrow string type, and better interoperability with other libraries)\n",
      "but was not found to be installed on your system.\n",
      "If this would cause problems for you,\n",
      "please provide us feedback at https://github.com/pandas-dev/pandas/issues/54466\n",
      "        \n",
      "  import pandas as pd\n"
     ]
    }
   ],
   "source": [
    "import pandas as pd"
   ]
  },
  {
   "cell_type": "code",
   "execution_count": 17,
   "id": "2f2edf03",
   "metadata": {},
   "outputs": [],
   "source": [
    "results_dict = {\"loss\": loss_epoch,\n",
    "    'Train':accuracy_training_epochs,\n",
    "     'Validation': accuracy_validation_epochs,\n",
    "     \"Test\":test_accuracy}\n",
    "results = pd.DataFrame(results_dict)\n",
    "results.to_csv(\"./resultsResNet50_cosine.csv\",index=False)"
   ]
  },
  {
   "cell_type": "code",
   "execution_count": 18,
   "id": "e14e6a3a",
   "metadata": {},
   "outputs": [],
   "source": [
    "A = [(im, label) for (im, label) in train_loader]"
   ]
  },
  {
   "cell_type": "code",
   "execution_count": 19,
   "id": "ccd154b0",
   "metadata": {},
   "outputs": [
    {
     "data": {
      "text/plain": [
       "torch.Size([128, 3, 32, 32])"
      ]
     },
     "execution_count": 19,
     "metadata": {},
     "output_type": "execute_result"
    }
   ],
   "source": [
    "A[0][0].shape"
   ]
  },
  {
   "cell_type": "code",
   "execution_count": 20,
   "id": "773613da",
   "metadata": {},
   "outputs": [
    {
     "data": {
      "text/html": [
       "<div>\n",
       "<style scoped>\n",
       "    .dataframe tbody tr th:only-of-type {\n",
       "        vertical-align: middle;\n",
       "    }\n",
       "\n",
       "    .dataframe tbody tr th {\n",
       "        vertical-align: top;\n",
       "    }\n",
       "\n",
       "    .dataframe thead th {\n",
       "        text-align: right;\n",
       "    }\n",
       "</style>\n",
       "<table border=\"1\" class=\"dataframe\">\n",
       "  <thead>\n",
       "    <tr style=\"text-align: right;\">\n",
       "      <th></th>\n",
       "      <th>loss</th>\n",
       "      <th>Train</th>\n",
       "      <th>Validation</th>\n",
       "      <th>Test</th>\n",
       "    </tr>\n",
       "  </thead>\n",
       "  <tbody>\n",
       "    <tr>\n",
       "      <th>0</th>\n",
       "      <td>2.164049</td>\n",
       "      <td>0.247244</td>\n",
       "      <td>0.2538</td>\n",
       "      <td>0.2518</td>\n",
       "    </tr>\n",
       "    <tr>\n",
       "      <th>1</th>\n",
       "      <td>2.183174</td>\n",
       "      <td>0.278756</td>\n",
       "      <td>0.2840</td>\n",
       "      <td>0.2862</td>\n",
       "    </tr>\n",
       "    <tr>\n",
       "      <th>2</th>\n",
       "      <td>2.035992</td>\n",
       "      <td>0.328556</td>\n",
       "      <td>0.3292</td>\n",
       "      <td>0.3384</td>\n",
       "    </tr>\n",
       "    <tr>\n",
       "      <th>3</th>\n",
       "      <td>2.084471</td>\n",
       "      <td>0.359444</td>\n",
       "      <td>0.3496</td>\n",
       "      <td>0.3644</td>\n",
       "    </tr>\n",
       "    <tr>\n",
       "      <th>4</th>\n",
       "      <td>2.052788</td>\n",
       "      <td>0.378844</td>\n",
       "      <td>0.3736</td>\n",
       "      <td>0.3900</td>\n",
       "    </tr>\n",
       "    <tr>\n",
       "      <th>...</th>\n",
       "      <td>...</td>\n",
       "      <td>...</td>\n",
       "      <td>...</td>\n",
       "      <td>...</td>\n",
       "    </tr>\n",
       "    <tr>\n",
       "      <th>85</th>\n",
       "      <td>1.641941</td>\n",
       "      <td>0.831822</td>\n",
       "      <td>0.8002</td>\n",
       "      <td>0.7915</td>\n",
       "    </tr>\n",
       "    <tr>\n",
       "      <th>86</th>\n",
       "      <td>1.683905</td>\n",
       "      <td>0.831933</td>\n",
       "      <td>0.8052</td>\n",
       "      <td>0.7889</td>\n",
       "    </tr>\n",
       "    <tr>\n",
       "      <th>87</th>\n",
       "      <td>1.594721</td>\n",
       "      <td>0.833222</td>\n",
       "      <td>0.8120</td>\n",
       "      <td>0.7960</td>\n",
       "    </tr>\n",
       "    <tr>\n",
       "      <th>88</th>\n",
       "      <td>1.647408</td>\n",
       "      <td>0.833044</td>\n",
       "      <td>0.8038</td>\n",
       "      <td>0.7964</td>\n",
       "    </tr>\n",
       "    <tr>\n",
       "      <th>89</th>\n",
       "      <td>1.594812</td>\n",
       "      <td>0.832156</td>\n",
       "      <td>0.8052</td>\n",
       "      <td>0.7924</td>\n",
       "    </tr>\n",
       "  </tbody>\n",
       "</table>\n",
       "<p>90 rows × 4 columns</p>\n",
       "</div>"
      ],
      "text/plain": [
       "        loss     Train  Validation    Test\n",
       "0   2.164049  0.247244      0.2538  0.2518\n",
       "1   2.183174  0.278756      0.2840  0.2862\n",
       "2   2.035992  0.328556      0.3292  0.3384\n",
       "3   2.084471  0.359444      0.3496  0.3644\n",
       "4   2.052788  0.378844      0.3736  0.3900\n",
       "..       ...       ...         ...     ...\n",
       "85  1.641941  0.831822      0.8002  0.7915\n",
       "86  1.683905  0.831933      0.8052  0.7889\n",
       "87  1.594721  0.833222      0.8120  0.7960\n",
       "88  1.647408  0.833044      0.8038  0.7964\n",
       "89  1.594812  0.832156      0.8052  0.7924\n",
       "\n",
       "[90 rows x 4 columns]"
      ]
     },
     "execution_count": 20,
     "metadata": {},
     "output_type": "execute_result"
    }
   ],
   "source": [
    "results"
   ]
  },
  {
   "cell_type": "code",
   "execution_count": null,
   "id": "f6c7c42b",
   "metadata": {},
   "outputs": [],
   "source": []
  }
 ],
 "metadata": {
  "kernelspec": {
   "display_name": "thesis",
   "language": "python",
   "name": "thesis"
  },
  "language_info": {
   "codemirror_mode": {
    "name": "ipython",
    "version": 3
   },
   "file_extension": ".py",
   "mimetype": "text/x-python",
   "name": "python",
   "nbconvert_exporter": "python",
   "pygments_lexer": "ipython3",
   "version": "3.9.18"
  }
 },
 "nbformat": 4,
 "nbformat_minor": 5
}
